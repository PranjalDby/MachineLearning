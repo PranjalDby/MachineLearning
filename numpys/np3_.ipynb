{
 "cells": [
  {
   "cell_type": "code",
   "execution_count": 2,
   "metadata": {},
   "outputs": [],
   "source": [
    "import numpy as np\n",
    "import matplotlib.pyplot as plt"
   ]
  },
  {
   "cell_type": "code",
   "execution_count": 3,
   "metadata": {},
   "outputs": [
    {
     "name": "stdout",
     "output_type": "stream",
     "text": [
      "11\n",
      "[b'h' b'e' b'l' b'l' b'o' b' ' b'w' b'o' b'r' b'l' b'd']\n",
      "[1 2 3]\n",
      "Constructing an array from data or binary file\n",
      "from function [[0 1 2]\n",
      " [1 2 3]]\n",
      "A new 1-D array initialized from text data in a string\n",
      "[1. 2. 3. 4. 5. 6.]\n",
      "[2.   2.25 2.5  2.75 3.  ]\n"
     ]
    }
   ],
   "source": [
    "s = b'hello world'\n",
    "print(len(s))\n",
    "print(np.frombuffer(s,dtype=\"S1\"))\n",
    "print(np.frombuffer(b'\\x01\\x02\\x03',dtype=np.uint8))\n",
    "\n",
    "print(\"Constructing an array from data or binary file\")\n",
    "\n",
    "# nd_ar = np.fromfile('numpys\\docs.txt',sep=',',dtype=np.int32)\n",
    "# print(nd_ar)\n",
    "\n",
    "# from functions\n",
    "\n",
    "print(\"from function\",np.fromfunction(lambda x,y: y+x ,shape=(2,3),dtype=np.int32))\n",
    "print(\"A new 1-D array initialized from text data in a string\")\n",
    "\n",
    "str = \"1,2,3,4,5,6\"\n",
    "print(np.fromstring(str,sep=\",\"))\n",
    "\n",
    "# numpy.linespace\n",
    "print(np.linspace(2.0,3.0,num=5))"
   ]
  },
  {
   "cell_type": "code",
   "execution_count": 4,
   "metadata": {},
   "outputs": [
    {
     "name": "stdout",
     "output_type": "stream",
     "text": [
      "[0. 0. 0. 0. 0. 0. 0. 0.]\n"
     ]
    },
    {
     "data": {
      "image/png": "[encoded data removed]",
      "text/plain": [
       "<Figure size 640x480 with 1 Axes>"
      ]
     },
     "metadata": {},
     "output_type": "display_data"
    }
   ],
   "source": [
    "N = 8\n",
    "y = np.zeros(N)\n",
    "print(y)\n",
    "x1 = np.linspace(0,10,N)\n",
    "x2 = np.linspace(0,10,N)\n",
    "plt.plot(x1,y,'o')\n",
    "plt.plot(x2,y+0.5,'o')\n",
    "plt.ylim([-0.5,1])\n",
    "plt.show()"
   ]
  },
  {
   "cell_type": "code",
   "execution_count": 5,
   "metadata": {},
   "outputs": [
    {
     "name": "stdout",
     "output_type": "stream",
     "text": [
      "[0.1 0.2 0.3 0.4 0.5 0.6 0.7 0.8 0.9 1. ]\n"
     ]
    },
    {
     "data": {
      "text/plain": [
       "array([ 1.25892541,  1.58489319,  1.99526231,  2.51188643,  3.16227766,\n",
       "        3.98107171,  5.01187234,  6.30957344,  7.94328235, 10.        ])"
      ]
     },
     "execution_count": 5,
     "metadata": {},
     "output_type": "execute_result"
    }
   ],
   "source": [
    "y = np.linspace(0.1,1,num=10,endpoint=True)\n",
    "print(y)\n",
    "pow(10,y[:])"
   ]
  },
  {
   "cell_type": "code",
   "execution_count": 6,
   "metadata": {},
   "outputs": [
    {
     "name": "stdout",
     "output_type": "stream",
     "text": [
      "xx (101, 101)\n",
      "(101, 101)\n",
      "(101, 101)\n"
     ]
    },
    {
     "data": {
      "text/plain": [
       "<matplotlib.colorbar.Colorbar at 0x27f207d0ee0>"
      ]
     },
     "execution_count": 6,
     "metadata": {},
     "output_type": "execute_result"
    },
    {
     "data": {
      "image/png": "[encoded data removed]",
      "text/plain": [
       "<Figure size 640x480 with 2 Axes>"
      ]
     },
     "metadata": {},
     "output_type": "display_data"
    }
   ],
   "source": [
    "# mesh grid\n",
    "x = np.linspace(-5,5,101)\n",
    "y = np.linspace(-5,5,101)\n",
    "xv,yv = np.meshgrid(x,y,indexing='ij')\n",
    "zz = np.sqrt(xv ** 2+yv **2)\n",
    "print(\"xx\",xv.shape)\n",
    "print(yv.shape)\n",
    "print(zz.shape)\n",
    "# # result of meshgrid is coordinate grid\n",
    "# plt.plot(xv,yv,'o',color = 'k')\n",
    "h = plt.contourf(xv,yv,zz)\n",
    "plt.axis('scaled')\n",
    "plt.colorbar()"
   ]
  },
  {
   "cell_type": "code",
   "execution_count": 7,
   "metadata": {},
   "outputs": [
    {
     "name": "stdout",
     "output_type": "stream",
     "text": [
      "Array manipulation\n",
      "[1 2 3 4 5]\n",
      "[1 2 3 4 5]\n",
      "\n"
     ]
    }
   ],
   "source": [
    "print(\"Array manipulation\")\n",
    "# basic operaion\n",
    "\n",
    "arr1 = np.array([1,2,3,4,5])\n",
    "arr2 = np.ones(shape=(5,),dtype=int)\n",
    "print(arr1)\n",
    "np.copyto(arr2,arr1,'unsafe')\n",
    "print(arr2)\n",
    "print()"
   ]
  },
  {
   "cell_type": "code",
   "execution_count": 8,
   "metadata": {},
   "outputs": [
    {
     "name": "stdout",
     "output_type": "stream",
     "text": [
      "[PhysicalDevice(name='/physical_device:GPU:0', device_type='GPU')]\n"
     ]
    }
   ],
   "source": [
    "import tensorflow as tf\n",
    "print(tf.config.list_physical_devices('GPU'))"
   ]
  },
  {
   "cell_type": "code",
   "execution_count": 9,
   "metadata": {},
   "outputs": [
    {
     "name": "stdout",
     "output_type": "stream",
     "text": [
      "Array reshaping\n",
      "[[0 1]\n",
      " [2 3]\n",
      " [4 5]\n",
      " [6 7]\n",
      " [8 9]]\n",
      "[[0 2 4 6 8]\n",
      " [1 3 5 7 9]]\n",
      "6\n"
     ]
    }
   ],
   "source": [
    "print('Array reshaping')\n",
    "a = np.arange(10).reshape((5,2))\n",
    "# iterator\n",
    "print(a)\n",
    "a = a.T\n",
    "print(a)\n",
    "print(a.flat[3])"
   ]
  },
  {
   "cell_type": "code",
   "execution_count": 10,
   "metadata": {},
   "outputs": [
    {
     "data": {
      "text/plain": [
       "array([ 91.25,  54.25,  83.25, 100.  ,  70.25, 100.  ,  93.25,  31.25])"
      ]
     },
     "execution_count": 10,
     "metadata": {},
     "output_type": "execute_result"
    }
   ],
   "source": [
    "curve_center = 80\n",
    "\n",
    "grades = np.array([72,35,64,88,51,90,74,12])\n",
    "def curves(grades):\n",
    "    avg = grades.mean()\n",
    "    change =curve_center - avg\n",
    "    new_grades = grades + change\n",
    "    return np.clip(new_grades,grades,100)\n",
    "\n",
    "curves(grades)"
   ]
  },
  {
   "cell_type": "code",
   "execution_count": 22,
   "metadata": {},
   "outputs": [
    {
     "name": "stdout",
     "output_type": "stream",
     "text": [
      "[[ 0  1  2  3  4]\n",
      " [ 5  6  7  8  9]\n",
      " [10 11 12 13 14]\n",
      " [15 16 17 18 19]\n",
      " [20 21 22 23 24]\n",
      " [25 26 27 28 29]\n",
      " [30 31 32 33 34]\n",
      " [35 36 37 38 39]\n",
      " [40 41 42 43 44]]\n",
      "[['1' '2' '3']\n",
      " ['4' '5' '6']\n",
      " ['7' '8' '9']]\n"
     ]
    }
   ],
   "source": [
    "a_mul = np.arange(45).reshape(9,5)\n",
    "print(a_mul)\n",
    "a = np.array([[1,2,3],\n",
    "              [4,5,6],\n",
    "              [7,8,9]],dtype='<U')\n",
    "\n",
    "print(a)"
   ]
  },
  {
   "cell_type": "code",
   "execution_count": 27,
   "metadata": {},
   "outputs": [
    {
     "name": "stdout",
     "output_type": "stream",
     "text": [
      "[[6 9 9]\n",
      " [9 6 9]\n",
      " [9 9 6]]\n"
     ]
    },
    {
     "data": {
      "text/plain": [
       "array([[0, 0, 0, 0, 0, 0, 0, 0, 0, 0],\n",
       "       [0, 0, 0, 0, 0, 0, 0, 0, 0, 0],\n",
       "       [0, 1, 0, 0, 0, 0, 0, 0, 0, 0],\n",
       "       [0, 1, 2, 0, 0, 0, 0, 0, 0, 0],\n",
       "       [0, 1, 2, 3, 0, 0, 0, 0, 0, 0],\n",
       "       [0, 1, 2, 3, 4, 0, 0, 0, 0, 0],\n",
       "       [0, 1, 2, 3, 4, 5, 0, 0, 0, 0],\n",
       "       [0, 1, 2, 3, 4, 5, 6, 0, 0, 0],\n",
       "       [0, 1, 2, 3, 4, 5, 6, 7, 0, 0],\n",
       "       [0, 1, 2, 3, 4, 5, 6, 7, 8, 0]])"
      ]
     },
     "execution_count": 27,
     "metadata": {},
     "output_type": "execute_result"
    }
   ],
   "source": [
    "a_default = np.full((3,3),9)\n",
    "np.fill_diagonal(a_default,6)\n",
    "print(a_default)\n",
    "# trill\n",
    "np.tril(np.arange(10),k=-1)"
   ]
  }
 ],
 "metadata": {
  "kernelspec": {
   "display_name": "Python 3",
   "language": "python",
   "name": "python3"
  },
  "language_info": {
   "codemirror_mode": {
    "name": "ipython",
    "version": 3
   },
   "file_extension": ".py",
   "mimetype": "text/x-python",
   "name": "python",
   "nbconvert_exporter": "python",
   "pygments_lexer": "ipython3",
   "version": "3.9.18"
  }
 },
 "nbformat": 4,
 "nbformat_minor": 2
}
