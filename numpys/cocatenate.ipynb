{
 "cells": [
  {
   "cell_type": "code",
   "execution_count": null,
   "metadata": {},
   "outputs": [],
   "source": [
    "import numpy as np\n",
    "import matplotlib.pyplot as plt\n",
    "arr = np.array([\n",
    "\t[1,2,3],\n",
    "\t[4,5,6]])\n",
    "\n",
    "arr2 = np.array([[7,8,9]])\n",
    "print(np.concatenate((arr.T,arr2.T),axis=1))\n",
    "\n",
    "print(\"Broadcasting\")\n",
    "x = np.array([[1,2,3],[4,5,6],[7,8,9],])\n",
    "y = np.array([2,5,6])\n",
    "\n",
    "print(x + y)\n",
    "\n",
    "y = y.reshape(3,1)\n",
    "zeros = np.zeros((3,1))\n",
    "print(zeros)\n",
    "y = np.column_stack((y,zeros))\n",
    "print(y)\n",
    "y = np.concatenate((y,zeros),axis=1)\n",
    "print(y)\n",
    "\n",
    "print(\"filling array with random number\")\n",
    "# uniform distribution\n",
    "a = np.random.random((2,3))\n",
    "print(a)\n",
    "\n",
    "# guassian ditribution mean = 0 variance = 1\n",
    "\n",
    "a = np.random.randn(2,3)\n"
   ]
  },
  {
   "cell_type": "code",
   "execution_count": 20,
   "metadata": {},
   "outputs": [
    {
     "name": "stdout",
     "output_type": "stream",
     "text": [
      "[[ 1.6 -0.4]\n",
      " [-0.6  0.4]]\n"
     ]
    }
   ],
   "source": [
    "# linalg module\n",
    "\n",
    "a = np.array([[1,2],[3,4]])\n",
    "eigen_v,eigen_vec = np.linalg.eig(a)\n",
    "b = eigen_vec[:,0] * eigen_v[0]\n",
    "c = a @ eigen_vec[:,0] \n",
    "\n",
    "# for comparing we use np.allclose\n",
    "\n",
    "np.allclose(b,c)\n",
    "\n",
    "a1 = np.array([[1,1],[1.5,4.0]])\n",
    "b = np.array([2200,5050])\n",
    "print(np.linalg.inv(a1))\n",
    "X = np.linalg.inv(a1)"
   ]
  }
 ],
 "metadata": {
  "kernelspec": {
   "display_name": "tf",
   "language": "python",
   "name": "python3"
  },
  "language_info": {
   "codemirror_mode": {
    "name": "ipython",
    "version": 3
   },
   "file_extension": ".py",
   "mimetype": "text/x-python",
   "name": "python",
   "nbconvert_exporter": "python",
   "pygments_lexer": "ipython3",
   "version": "3.9.18"
  }
 },
 "nbformat": 4,
 "nbformat_minor": 2
}
