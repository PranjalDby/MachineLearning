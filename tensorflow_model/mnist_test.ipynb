{
 "cells": [
  {
   "cell_type": "code",
   "execution_count": 3,
   "metadata": {},
   "outputs": [],
   "source": [
    "import tensorflow as tf\n",
    "from tensorflow import keras\n",
    "import pandas as pd\n",
    "import numpy as np\n",
    "mnist = keras.datasets.mnist\n"
   ]
  },
  {
   "cell_type": "code",
   "execution_count": 4,
   "metadata": {},
   "outputs": [],
   "source": [
    "(x_train,y_train),(x_test,y_test) = mnist.load_data()\n"
   ]
  },
  {
   "cell_type": "code",
   "execution_count": null,
   "metadata": {},
   "outputs": [],
   "source": [
    "arr = np.arange(600).reshape(100,3,2)\n",
    "print(\"Flatten array\")\n",
    "print(arr.flatten())"
   ]
  },
  {
   "cell_type": "code",
   "execution_count": 6,
   "metadata": {},
   "outputs": [],
   "source": [
    "x_train,x_test = x_train / 255.0,x_test / 255.0\n"
   ]
  },
  {
   "cell_type": "code",
   "execution_count": 7,
   "metadata": {},
   "outputs": [],
   "source": [
    "model = tf.keras.Sequential([\n",
    "    tf.keras.layers.Flatten(input_shape=(28,28)),\n",
    "    tf.keras.layers.Dense(128,activation='relu'),\n",
    "    tf.keras.layers.Dropout(0.2),\n",
    "    tf.keras.layers.Dense(10,activation='softmax',)\n",
    "])\n",
    "model.compile(metrics=['Accuracy'],optimizer='adam',loss='sparse_categorical_crossentropy')"
   ]
  },
  {
   "cell_type": "code",
   "execution_count": 8,
   "metadata": {},
   "outputs": [
    {
     "name": "stdout",
     "output_type": "stream",
     "text": [
      "(10000, 28, 28)\n"
     ]
    }
   ],
   "source": [
    "print(x_test.shape)"
   ]
  },
  {
   "cell_type": "code",
   "execution_count": 9,
   "metadata": {},
   "outputs": [
    {
     "name": "stdout",
     "output_type": "stream",
     "text": [
      "Epoch 1/10\n",
      "2000/2000 [==============================] - 14s 6ms/step - loss: 0.2939 - Accuracy: 0.9149\n",
      "Epoch 2/10\n",
      "2000/2000 [==============================] - 9s 5ms/step - loss: 0.1407 - Accuracy: 0.9582\n",
      "Epoch 3/10\n",
      "2000/2000 [==============================] - 9s 5ms/step - loss: 0.1026 - Accuracy: 0.9688\n",
      "Epoch 4/10\n",
      "2000/2000 [==============================] - 9s 5ms/step - loss: 0.0856 - Accuracy: 0.9732\n",
      "Epoch 5/10\n",
      "2000/2000 [==============================] - 10s 5ms/step - loss: 0.0734 - Accuracy: 0.9769\n",
      "Epoch 6/10\n",
      "2000/2000 [==============================] - 9s 5ms/step - loss: 0.0656 - Accuracy: 0.9789\n",
      "Epoch 7/10\n",
      "2000/2000 [==============================] - 9s 5ms/step - loss: 0.0579 - Accuracy: 0.9808\n",
      "Epoch 8/10\n",
      "2000/2000 [==============================] - 9s 5ms/step - loss: 0.0516 - Accuracy: 0.9835\n",
      "Epoch 9/10\n",
      "2000/2000 [==============================] - 9s 4ms/step - loss: 0.0477 - Accuracy: 0.9842\n",
      "Epoch 10/10\n",
      "2000/2000 [==============================] - 9s 4ms/step - loss: 0.0431 - Accuracy: 0.9856\n",
      "313/313 [==============================] - 2s 5ms/step - loss: 0.0698 - Accuracy: 0.9792\n"
     ]
    },
    {
     "data": {
      "text/plain": [
       "[0.06975458562374115, 0.979200005531311]"
      ]
     },
     "execution_count": 9,
     "metadata": {},
     "output_type": "execute_result"
    }
   ],
   "source": [
    "model.fit(x_train,y_train,batch_size=30,epochs=10)\n",
    "model.evaluate(x_test,y_test)\n"
   ]
  },
  {
   "cell_type": "code",
   "execution_count": 15,
   "metadata": {},
   "outputs": [
    {
     "name": "stdout",
     "output_type": "stream",
     "text": [
      "INFO:tensorflow:Assets written to: tensorflow_model/model_mnist.tf\\assets\n"
     ]
    }
   ],
   "source": [
    "keras.models.save_model(model=model,filepath='tensorflow_model/model_mnist.tf',save_format='tf')\n",
    "model.save('test_model.h5')"
   ]
  },
  {
   "cell_type": "code",
   "execution_count": 11,
   "metadata": {},
   "outputs": [
    {
     "name": "stdout",
     "output_type": "stream",
     "text": [
      "500/500 [==============================] - 2s 3ms/step\n"
     ]
    },
    {
     "data": {
      "text/plain": [
       "array([[2.3946831e-10, 3.7215894e-12, 1.1086201e-08, ..., 9.9999368e-01,\n",
       "        7.5063157e-11, 8.2599996e-08],\n",
       "       [8.7781746e-09, 6.6724620e-05, 9.9993265e-01, ..., 1.1188882e-17,\n",
       "        6.7955426e-11, 4.1973051e-21],\n",
       "       [1.9291020e-08, 9.9980730e-01, 1.4650265e-05, ..., 1.6798078e-04,\n",
       "        7.5671878e-06, 7.6627753e-09],\n",
       "       ...,\n",
       "       [1.4087579e-16, 2.2125968e-15, 3.9394915e-16, ..., 6.1364756e-07,\n",
       "        1.4464104e-09, 1.0526866e-05],\n",
       "       [2.9631135e-12, 8.2257118e-13, 9.2817811e-13, ..., 2.7176696e-12,\n",
       "        1.1424378e-06, 2.9303063e-13],\n",
       "       [3.1649734e-09, 6.4730754e-18, 1.5178308e-11, ..., 8.4476703e-14,\n",
       "        4.7014689e-14, 2.7893333e-15]], dtype=float32)"
      ]
     },
     "execution_count": 11,
     "metadata": {},
     "output_type": "execute_result"
    }
   ],
   "source": [
    "model.predict(x_test,batch_size=20)"
   ]
  },
  {
   "cell_type": "code",
   "execution_count": 31,
   "metadata": {},
   "outputs": [],
   "source": [
    "import matplotlib.pyplot as plt\n"
   ]
  },
  {
   "cell_type": "code",
   "execution_count": 18,
   "metadata": {},
   "outputs": [
    {
     "name": "stdout",
     "output_type": "stream",
     "text": [
      "313/313 [==============================] - 1s 2ms/step\n"
     ]
    },
    {
     "data": {
      "text/plain": [
       "array([[2.3946831e-10, 3.7215894e-12, 1.1086201e-08, ..., 9.9999368e-01,\n",
       "        7.5063157e-11, 8.2599840e-08],\n",
       "       [8.7781569e-09, 6.6724439e-05, 9.9993265e-01, ..., 1.1188839e-17,\n",
       "        6.7955426e-11, 4.1972732e-21],\n",
       "       [1.9290983e-08, 9.9980730e-01, 1.4650251e-05, ..., 1.6798063e-04,\n",
       "        7.5671733e-06, 7.6627602e-09],\n",
       "       ...,\n",
       "       [1.4087526e-16, 2.2125801e-15, 3.9394764e-16, ..., 6.1364642e-07,\n",
       "        1.4464078e-09, 1.0526846e-05],\n",
       "       [2.9631135e-12, 8.2257118e-13, 9.2817984e-13, ..., 2.7176696e-12,\n",
       "        1.1424368e-06, 2.9303063e-13],\n",
       "       [3.1649674e-09, 6.4730510e-18, 1.5178279e-11, ..., 8.4476866e-14,\n",
       "        4.7014689e-14, 2.7893227e-15]], dtype=float32)"
      ]
     },
     "execution_count": 18,
     "metadata": {},
     "output_type": "execute_result"
    }
   ],
   "source": [
    "loaded_model = keras.models.load_model('test_model.h5')\n",
    "loaded_model.predict(x_test)"
   ]
  }
 ],
 "metadata": {
  "kernelspec": {
   "display_name": "tf",
   "language": "python",
   "name": "python3"
  },
  "language_info": {
   "codemirror_mode": {
    "name": "ipython",
    "version": 3
   },
   "file_extension": ".py",
   "mimetype": "text/x-python",
   "name": "python",
   "nbconvert_exporter": "python",
   "pygments_lexer": "ipython3",
   "version": "3.9.18"
  }
 },
 "nbformat": 4,
 "nbformat_minor": 2
}
