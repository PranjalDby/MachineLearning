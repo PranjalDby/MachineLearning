{
 "cells": [
  {
   "cell_type": "code",
   "execution_count": 2,
   "metadata": {},
   "outputs": [],
   "source": [
    "import pandas as pd\n",
    "import numpy as np"
   ]
  },
  {
   "cell_type": "code",
   "execution_count": 131,
   "metadata": {},
   "outputs": [
    {
     "name": "stdout",
     "output_type": "stream",
     "text": [
      "Handling missing data..........\n"
     ]
    },
    {
     "data": {
      "text/html": [
       "<div>\n",
       "<style scoped>\n",
       "    .dataframe tbody tr th:only-of-type {\n",
       "        vertical-align: middle;\n",
       "    }\n",
       "\n",
       "    .dataframe tbody tr th {\n",
       "        vertical-align: top;\n",
       "    }\n",
       "\n",
       "    .dataframe thead th {\n",
       "        text-align: right;\n",
       "    }\n",
       "</style>\n",
       "<table border=\"1\" class=\"dataframe\">\n",
       "  <thead>\n",
       "    <tr style=\"text-align: right;\">\n",
       "      <th></th>\n",
       "      <th>one</th>\n",
       "      <th>two</th>\n",
       "      <th>three</th>\n",
       "    </tr>\n",
       "  </thead>\n",
       "  <tbody>\n",
       "    <tr>\n",
       "      <th>a</th>\n",
       "      <td>-1.877044</td>\n",
       "      <td>-2.052014</td>\n",
       "      <td>0.395080</td>\n",
       "    </tr>\n",
       "    <tr>\n",
       "      <th>c</th>\n",
       "      <td>-0.665908</td>\n",
       "      <td>1.071958</td>\n",
       "      <td>-1.269574</td>\n",
       "    </tr>\n",
       "    <tr>\n",
       "      <th>e</th>\n",
       "      <td>1.298740</td>\n",
       "      <td>0.717615</td>\n",
       "      <td>0.171641</td>\n",
       "    </tr>\n",
       "    <tr>\n",
       "      <th>f</th>\n",
       "      <td>-1.710815</td>\n",
       "      <td>1.142764</td>\n",
       "      <td>0.153176</td>\n",
       "    </tr>\n",
       "    <tr>\n",
       "      <th>h</th>\n",
       "      <td>-0.136322</td>\n",
       "      <td>0.626133</td>\n",
       "      <td>-1.478891</td>\n",
       "    </tr>\n",
       "  </tbody>\n",
       "</table>\n",
       "</div>"
      ],
      "text/plain": [
       "        one       two     three\n",
       "a -1.877044 -2.052014  0.395080\n",
       "c -0.665908  1.071958 -1.269574\n",
       "e  1.298740  0.717615  0.171641\n",
       "f -1.710815  1.142764  0.153176\n",
       "h -0.136322  0.626133 -1.478891"
      ]
     },
     "execution_count": 131,
     "metadata": {},
     "output_type": "execute_result"
    }
   ],
   "source": [
    "print(\"Handling missing data..........\")\n",
    "\n",
    "df = pd.DataFrame(np.random.randn(5,3),index=[\"a\",\"c\",\"e\",\"f\",\"h\"],columns=[\"one\",\"two\",\"three\"])\n",
    "df"
   ]
  },
  {
   "cell_type": "code",
   "execution_count": 132,
   "metadata": {},
   "outputs": [
    {
     "name": "stdout",
     "output_type": "stream",
     "text": [
      "        one       two     three four   five\n",
      "a -1.877044 -2.052014  0.395080  bar  False\n",
      "c -0.665908  1.071958 -1.269574  bar  False\n",
      "e  1.298740  0.717615  0.171641  bar   True\n",
      "f -1.710815  1.142764  0.153176  bar  False\n",
      "h -0.136322  0.626133 -1.478891  bar  False\n"
     ]
    }
   ],
   "source": [
    "df[\"four\"] = \"bar\"\n",
    "df[\"five\"] = df[\"one\"] > 0\n",
    "print(df)"
   ]
  },
  {
   "cell_type": "code",
   "execution_count": 136,
   "metadata": {},
   "outputs": [
    {
     "name": "stdout",
     "output_type": "stream",
     "text": [
      "a    False\n",
      "b     True\n",
      "c    False\n",
      "d     True\n",
      "e    False\n",
      "f    False\n",
      "g     True\n",
      "h    False\n",
      "Name: one, dtype: bool\n",
      "<class 'float'>\n"
     ]
    }
   ],
   "source": [
    "df2 = df.reindex([\"a\",\"b\",\"c\",\"d\",\"e\",\"f\",\"g\",\"h\"])\n",
    "\n",
    "df2[\"one\"]\n",
    "print(pd.isna(df2[\"one\"]))\n",
    "print(type(np.nan))\n",
    "\n",
    "# important point is in pandas and numpy np.nan != np.nan\n",
    "# it treat None as np.nan"
   ]
  },
  {
   "cell_type": "code",
   "execution_count": 138,
   "metadata": {},
   "outputs": [
    {
     "name": "stdout",
     "output_type": "stream",
     "text": [
      "DateTimes\n"
     ]
    },
    {
     "data": {
      "text/html": [
       "<div>\n",
       "<style scoped>\n",
       "    .dataframe tbody tr th:only-of-type {\n",
       "        vertical-align: middle;\n",
       "    }\n",
       "\n",
       "    .dataframe tbody tr th {\n",
       "        vertical-align: top;\n",
       "    }\n",
       "\n",
       "    .dataframe thead th {\n",
       "        text-align: right;\n",
       "    }\n",
       "</style>\n",
       "<table border=\"1\" class=\"dataframe\">\n",
       "  <thead>\n",
       "    <tr style=\"text-align: right;\">\n",
       "      <th></th>\n",
       "      <th>one</th>\n",
       "      <th>two</th>\n",
       "      <th>three</th>\n",
       "      <th>four</th>\n",
       "      <th>five</th>\n",
       "      <th>timestamp</th>\n",
       "    </tr>\n",
       "  </thead>\n",
       "  <tbody>\n",
       "    <tr>\n",
       "      <th>a</th>\n",
       "      <td>-1.877044</td>\n",
       "      <td>-2.052014</td>\n",
       "      <td>0.395080</td>\n",
       "      <td>bar</td>\n",
       "      <td>False</td>\n",
       "      <td>2023-10-11</td>\n",
       "    </tr>\n",
       "    <tr>\n",
       "      <th>c</th>\n",
       "      <td>-0.665908</td>\n",
       "      <td>1.071958</td>\n",
       "      <td>-1.269574</td>\n",
       "      <td>bar</td>\n",
       "      <td>False</td>\n",
       "      <td>2023-10-11</td>\n",
       "    </tr>\n",
       "    <tr>\n",
       "      <th>e</th>\n",
       "      <td>1.298740</td>\n",
       "      <td>0.717615</td>\n",
       "      <td>0.171641</td>\n",
       "      <td>bar</td>\n",
       "      <td>True</td>\n",
       "      <td>2023-10-11</td>\n",
       "    </tr>\n",
       "    <tr>\n",
       "      <th>f</th>\n",
       "      <td>-1.710815</td>\n",
       "      <td>1.142764</td>\n",
       "      <td>0.153176</td>\n",
       "      <td>bar</td>\n",
       "      <td>False</td>\n",
       "      <td>2023-10-11</td>\n",
       "    </tr>\n",
       "    <tr>\n",
       "      <th>h</th>\n",
       "      <td>-0.136322</td>\n",
       "      <td>0.626133</td>\n",
       "      <td>-1.478891</td>\n",
       "      <td>bar</td>\n",
       "      <td>False</td>\n",
       "      <td>2023-10-11</td>\n",
       "    </tr>\n",
       "  </tbody>\n",
       "</table>\n",
       "</div>"
      ],
      "text/plain": [
       "        one       two     three four   five  timestamp\n",
       "a -1.877044 -2.052014  0.395080  bar  False 2023-10-11\n",
       "c -0.665908  1.071958 -1.269574  bar  False 2023-10-11\n",
       "e  1.298740  0.717615  0.171641  bar   True 2023-10-11\n",
       "f -1.710815  1.142764  0.153176  bar  False 2023-10-11\n",
       "h -0.136322  0.626133 -1.478891  bar  False 2023-10-11"
      ]
     },
     "execution_count": 138,
     "metadata": {},
     "output_type": "execute_result"
    }
   ],
   "source": [
    "print(\"DateTimes\")\n",
    "df3 = df.copy();\n",
    "df3[\"timestamp\"] = pd.Timestamp(\"2023-10-11\")\n",
    "df3"
   ]
  },
  {
   "cell_type": "code",
   "execution_count": 140,
   "metadata": {},
   "outputs": [
    {
     "data": {
      "text/html": [
       "<div>\n",
       "<style scoped>\n",
       "    .dataframe tbody tr th:only-of-type {\n",
       "        vertical-align: middle;\n",
       "    }\n",
       "\n",
       "    .dataframe tbody tr th {\n",
       "        vertical-align: top;\n",
       "    }\n",
       "\n",
       "    .dataframe thead th {\n",
       "        text-align: right;\n",
       "    }\n",
       "</style>\n",
       "<table border=\"1\" class=\"dataframe\">\n",
       "  <thead>\n",
       "    <tr style=\"text-align: right;\">\n",
       "      <th></th>\n",
       "      <th>one</th>\n",
       "      <th>two</th>\n",
       "      <th>three</th>\n",
       "      <th>four</th>\n",
       "      <th>five</th>\n",
       "      <th>timestamp</th>\n",
       "    </tr>\n",
       "  </thead>\n",
       "  <tbody>\n",
       "    <tr>\n",
       "      <th>a</th>\n",
       "      <td>NaN</td>\n",
       "      <td>-2.052014</td>\n",
       "      <td>0.395080</td>\n",
       "      <td>bar</td>\n",
       "      <td>False</td>\n",
       "      <td>NaT</td>\n",
       "    </tr>\n",
       "    <tr>\n",
       "      <th>c</th>\n",
       "      <td>NaN</td>\n",
       "      <td>1.071958</td>\n",
       "      <td>-1.269574</td>\n",
       "      <td>bar</td>\n",
       "      <td>False</td>\n",
       "      <td>NaT</td>\n",
       "    </tr>\n",
       "    <tr>\n",
       "      <th>e</th>\n",
       "      <td>1.298740</td>\n",
       "      <td>0.717615</td>\n",
       "      <td>0.171641</td>\n",
       "      <td>bar</td>\n",
       "      <td>True</td>\n",
       "      <td>2023-10-11</td>\n",
       "    </tr>\n",
       "    <tr>\n",
       "      <th>f</th>\n",
       "      <td>-1.710815</td>\n",
       "      <td>1.142764</td>\n",
       "      <td>0.153176</td>\n",
       "      <td>bar</td>\n",
       "      <td>False</td>\n",
       "      <td>2023-10-11</td>\n",
       "    </tr>\n",
       "    <tr>\n",
       "      <th>h</th>\n",
       "      <td>NaN</td>\n",
       "      <td>0.626133</td>\n",
       "      <td>-1.478891</td>\n",
       "      <td>bar</td>\n",
       "      <td>False</td>\n",
       "      <td>NaT</td>\n",
       "    </tr>\n",
       "  </tbody>\n",
       "</table>\n",
       "</div>"
      ],
      "text/plain": [
       "        one       two     three four   five  timestamp\n",
       "a       NaN -2.052014  0.395080  bar  False        NaT\n",
       "c       NaN  1.071958 -1.269574  bar  False        NaT\n",
       "e  1.298740  0.717615  0.171641  bar   True 2023-10-11\n",
       "f -1.710815  1.142764  0.153176  bar  False 2023-10-11\n",
       "h       NaN  0.626133 -1.478891  bar  False        NaT"
      ]
     },
     "execution_count": 140,
     "metadata": {},
     "output_type": "execute_result"
    }
   ],
   "source": [
    "df3.loc[[\"a\",\"c\",\"h\"],[\"one\",\"timestamp\"]] = np.nan\n",
    "df3"
   ]
  },
  {
   "cell_type": "code",
   "execution_count": 141,
   "metadata": {},
   "outputs": [
    {
     "data": {
      "text/plain": [
       "float64          3\n",
       "object           1\n",
       "bool             1\n",
       "datetime64[s]    1\n",
       "Name: count, dtype: int64"
      ]
     },
     "execution_count": 141,
     "metadata": {},
     "output_type": "execute_result"
    }
   ],
   "source": [
    "df3.dtypes.value_counts()"
   ]
  },
  {
   "cell_type": "code",
   "execution_count": null,
   "metadata": {},
   "outputs": [],
   "source": [
    "# inserting the missing data\n",
    "# to -be continue"
   ]
  },
  {
   "cell_type": "code",
   "execution_count": 157,
   "metadata": {},
   "outputs": [
    {
     "name": "stdout",
     "output_type": "stream",
     "text": [
      "calculating the mean\n",
      "A    0.524498\n",
      "B   -0.704489\n",
      "C    0.031172\n",
      "D    0.381868\n",
      "F   -0.445882\n",
      "dtype: float64\n",
      "0.5244981234166717\n"
     ]
    },
    {
     "data": {
      "text/plain": [
       "-0.04256647757607285"
      ]
     },
     "execution_count": 157,
     "metadata": {},
     "output_type": "execute_result"
    }
   ],
   "source": [
    "series = pd.Series(np.random.randn(5),index=[\"A\",\"B\",\"C\",\"D\",\"F\"])\n",
    "print(\"calculating the mean\")\n",
    "print(series)\n",
    "print(series[\"A\"])\n",
    "series.mean()"
   ]
  },
  {
   "cell_type": "code",
   "execution_count": null,
   "metadata": {},
   "outputs": [],
   "source": []
  },
  {
   "cell_type": "code",
   "execution_count": 262,
   "metadata": {},
   "outputs": [
    {
     "name": "stdout",
     "output_type": "stream",
     "text": [
      "Mean of a Data Frame ......\n",
      "                   0\n",
      "2023-10-01  0.569183\n",
      "2023-10-02  0.794629\n",
      "2023-10-03  0.245823\n",
      "2023-10-04  0.850611\n",
      "2023-10-05  0.773508\n",
      "\n",
      "\n",
      "0.6467510443534056\n",
      "2023-10-01    0.569183\n",
      "2023-10-02    0.794629\n",
      "2023-10-03    0.245823\n",
      "2023-10-04    0.850611\n",
      "2023-10-05    0.773508\n",
      "Freq: D, dtype: float64\n",
      "Mean of columns = \n",
      " 0    0.646751\n",
      "dtype: float64\n",
      "mean of index 0 \n",
      " 0.5691834406655207\n"
     ]
    }
   ],
   "source": [
    "print(\"Mean of a Data Frame ......\")\n",
    "times = pd.date_range(start=\"2023/10/01\",periods=5)\n",
    "df4 = pd.DataFrame(np.random.rand(5,1),index=times)\n",
    "print(df4)\n",
    "print(\"\\n\")\n",
    "mean = 0\n",
    "for item in df4.values:\n",
    "    for k in item:\n",
    "        mean += k\n",
    "\n",
    "mean = mean / 5\n",
    "print(mean)\n",
    "print(df4.mean(axis=1))\n",
    "print(\"Mean of columns = \\n\",df4.mean(axis=0))\n",
    "print(\"mean of index 0 \\n\" , df4[0][\"2023-10-01\"] % mean)"
   ]
  },
  {
   "cell_type": "code",
   "execution_count": 255,
   "metadata": {},
   "outputs": [
    {
     "name": "stdout",
     "output_type": "stream",
     "text": [
      "2023-10-01    0.209887\n",
      "2023-10-02    0.858205\n",
      "2023-10-03    0.083734\n",
      "2023-10-04    0.425860\n",
      "2023-10-05    0.609628\n",
      "Freq: D, dtype: float64\n"
     ]
    }
   ],
   "source": [
    "print(df4.mean(axis=1))"
   ]
  },
  {
   "cell_type": "code",
   "execution_count": 269,
   "metadata": {},
   "outputs": [
    {
     "name": "stdout",
     "output_type": "stream",
     "text": [
      "After Shifting\n",
      " 2023-10-01    NaN\n",
      "2023-10-02    NaN\n",
      "2023-10-03    1.0\n",
      "2023-10-04    3.0\n",
      "2023-10-05    5.0\n",
      "Freq: D, dtype: float64\n",
      "Befor shifting = \n",
      " 2023-10-01    1.0\n",
      "2023-10-02    3.0\n",
      "2023-10-03    5.0\n",
      "2023-10-04    NaN\n",
      "2023-10-05    NaN\n",
      "Freq: D, dtype: float64\n"
     ]
    }
   ],
   "source": [
    "s  = pd.Series([1,3,5,np.nan,6],index=times).shift(2)\n",
    "print(\"After Shifting\\n\\r\",s)\n",
    "print(\"Befor shifting = \\n\",s.shift(-2))"
   ]
  },
  {
   "cell_type": "code",
   "execution_count": 271,
   "metadata": {},
   "outputs": [
    {
     "name": "stdout",
     "output_type": "stream",
     "text": [
      "                   0\n",
      "2023-10-01       NaN\n",
      "2023-10-02       NaN\n",
      "2023-10-03 -0.754177\n",
      "2023-10-04 -2.149389\n",
      "2023-10-05 -4.226492\n"
     ]
    }
   ],
   "source": [
    "print(df4.sub(s,axis=\"index\"))"
   ]
  },
  {
   "cell_type": "code",
   "execution_count": 277,
   "metadata": {},
   "outputs": [
    {
     "name": "stdout",
     "output_type": "stream",
     "text": [
      "Before applying any functions\n",
      "                   0\n",
      "2023-10-01  0.569183\n",
      "2023-10-02  0.794629\n",
      "2023-10-03  0.245823\n",
      "2023-10-04  0.850611\n",
      "2023-10-05  0.773508\n",
      "After..\n",
      "                   0\n",
      "2023-10-01  1.138367\n",
      "2023-10-02  1.589258\n",
      "2023-10-03  0.491647\n",
      "2023-10-04  1.701223\n",
      "2023-10-05  1.547016\n",
      "By Using DataFrame.Transform\n",
      "                    0\n",
      "2023-10-01  57.601364\n",
      "2023-10-02  80.416480\n",
      "2023-10-03  24.877320\n",
      "2023-10-04  86.081879\n",
      "2023-10-05  78.278985\n"
     ]
    }
   ],
   "source": [
    "# Some user Defined Functions for broadcasting\n",
    "\n",
    "# df.agg\n",
    "# df.transform\n",
    "print(\"Before applying any functions\")\n",
    "print(df4)\n",
    "print('After..')\n",
    "print(df4.agg(lambda x:x*2,axis=1))\n",
    "\n",
    "print(\"By Using DataFrame.Transform\")\n",
    "\n",
    "print(df4.transform(lambda x: x * 101.2))"
   ]
  },
  {
   "cell_type": "code",
   "execution_count": 279,
   "metadata": {},
   "outputs": [
    {
     "name": "stdout",
     "output_type": "stream",
     "text": [
      "String Method\n",
      "0       A\n",
      "1       B\n",
      "2       C\n",
      "3    Aaba\n",
      "4    Baca\n",
      "5     NaN\n",
      "6    CABA\n",
      "7     dog\n",
      "8     cat\n",
      "dtype: object\n"
     ]
    },
    {
     "data": {
      "text/plain": [
       "0       a\n",
       "1       b\n",
       "2       c\n",
       "3    aaba\n",
       "4    baca\n",
       "5     NaN\n",
       "6    caba\n",
       "7     dog\n",
       "8     cat\n",
       "dtype: object"
      ]
     },
     "execution_count": 279,
     "metadata": {},
     "output_type": "execute_result"
    }
   ],
   "source": [
    "print(\"String Method\")\n",
    "string_series = pd.Series([\"A\",\"B\",\"C\",\"Aaba\",\"Baca\",np.nan,\"CABA\",\"dog\",\"cat\"])\n",
    "print(string_series)\n",
    "# String Methods\n",
    "string_series.str.lower()"
   ]
  },
  {
   "cell_type": "code",
   "execution_count": 280,
   "metadata": {},
   "outputs": [
    {
     "data": {
      "text/html": [
       "<div>\n",
       "<style scoped>\n",
       "    .dataframe tbody tr th:only-of-type {\n",
       "        vertical-align: middle;\n",
       "    }\n",
       "\n",
       "    .dataframe tbody tr th {\n",
       "        vertical-align: top;\n",
       "    }\n",
       "\n",
       "    .dataframe thead th {\n",
       "        text-align: right;\n",
       "    }\n",
       "</style>\n",
       "<table border=\"1\" class=\"dataframe\">\n",
       "  <thead>\n",
       "    <tr style=\"text-align: right;\">\n",
       "      <th></th>\n",
       "      <th>0</th>\n",
       "      <th>1</th>\n",
       "      <th>2</th>\n",
       "      <th>3</th>\n",
       "    </tr>\n",
       "  </thead>\n",
       "  <tbody>\n",
       "    <tr>\n",
       "      <th>0</th>\n",
       "      <td>1.179324</td>\n",
       "      <td>-0.463558</td>\n",
       "      <td>0.314113</td>\n",
       "      <td>-1.515605</td>\n",
       "    </tr>\n",
       "    <tr>\n",
       "      <th>1</th>\n",
       "      <td>0.875296</td>\n",
       "      <td>-1.727954</td>\n",
       "      <td>-1.982956</td>\n",
       "      <td>0.963913</td>\n",
       "    </tr>\n",
       "    <tr>\n",
       "      <th>2</th>\n",
       "      <td>0.360726</td>\n",
       "      <td>-0.285052</td>\n",
       "      <td>0.157286</td>\n",
       "      <td>0.095759</td>\n",
       "    </tr>\n",
       "    <tr>\n",
       "      <th>3</th>\n",
       "      <td>0.080159</td>\n",
       "      <td>1.064865</td>\n",
       "      <td>1.248440</td>\n",
       "      <td>0.477292</td>\n",
       "    </tr>\n",
       "    <tr>\n",
       "      <th>4</th>\n",
       "      <td>-0.707209</td>\n",
       "      <td>0.762266</td>\n",
       "      <td>-0.507432</td>\n",
       "      <td>0.378473</td>\n",
       "    </tr>\n",
       "    <tr>\n",
       "      <th>5</th>\n",
       "      <td>0.528190</td>\n",
       "      <td>0.349823</td>\n",
       "      <td>-0.661517</td>\n",
       "      <td>-0.313104</td>\n",
       "    </tr>\n",
       "    <tr>\n",
       "      <th>6</th>\n",
       "      <td>-0.903000</td>\n",
       "      <td>-1.666512</td>\n",
       "      <td>-0.219321</td>\n",
       "      <td>1.162261</td>\n",
       "    </tr>\n",
       "    <tr>\n",
       "      <th>7</th>\n",
       "      <td>0.521245</td>\n",
       "      <td>-0.796316</td>\n",
       "      <td>-1.458256</td>\n",
       "      <td>-2.087098</td>\n",
       "    </tr>\n",
       "    <tr>\n",
       "      <th>8</th>\n",
       "      <td>-0.310846</td>\n",
       "      <td>-0.924013</td>\n",
       "      <td>0.097872</td>\n",
       "      <td>-0.467239</td>\n",
       "    </tr>\n",
       "    <tr>\n",
       "      <th>9</th>\n",
       "      <td>-1.463043</td>\n",
       "      <td>1.053732</td>\n",
       "      <td>0.665903</td>\n",
       "      <td>0.625595</td>\n",
       "    </tr>\n",
       "  </tbody>\n",
       "</table>\n",
       "</div>"
      ],
      "text/plain": [
       "          0         1         2         3\n",
       "0  1.179324 -0.463558  0.314113 -1.515605\n",
       "1  0.875296 -1.727954 -1.982956  0.963913\n",
       "2  0.360726 -0.285052  0.157286  0.095759\n",
       "3  0.080159  1.064865  1.248440  0.477292\n",
       "4 -0.707209  0.762266 -0.507432  0.378473\n",
       "5  0.528190  0.349823 -0.661517 -0.313104\n",
       "6 -0.903000 -1.666512 -0.219321  1.162261\n",
       "7  0.521245 -0.796316 -1.458256 -2.087098\n",
       "8 -0.310846 -0.924013  0.097872 -0.467239\n",
       "9 -1.463043  1.053732  0.665903  0.625595"
      ]
     },
     "execution_count": 280,
     "metadata": {},
     "output_type": "execute_result"
    }
   ],
   "source": [
    "rand_df = pd.DataFrame(np.random.randn(10,4))\n",
    "rand_df"
   ]
  },
  {
   "cell_type": "code",
   "execution_count": 282,
   "metadata": {},
   "outputs": [
    {
     "data": {
      "text/plain": [
       "[          0         1         2         3\n",
       " 0  1.179324 -0.463558  0.314113 -1.515605\n",
       " 1  0.875296 -1.727954 -1.982956  0.963913\n",
       " 2  0.360726 -0.285052  0.157286  0.095759,\n",
       "           0         1         2         3\n",
       " 3  0.080159  1.064865  1.248440  0.477292\n",
       " 4 -0.707209  0.762266 -0.507432  0.378473\n",
       " 5  0.528190  0.349823 -0.661517 -0.313104\n",
       " 6 -0.903000 -1.666512 -0.219321  1.162261,\n",
       "           0         1         2         3\n",
       " 7  0.521245 -0.796316 -1.458256 -2.087098\n",
       " 8 -0.310846 -0.924013  0.097872 -0.467239\n",
       " 9 -1.463043  1.053732  0.665903  0.625595]"
      ]
     },
     "execution_count": 282,
     "metadata": {},
     "output_type": "execute_result"
    }
   ],
   "source": [
    "pieces = [rand_df[:3],rand_df[3:7],rand_df[7:]]\n",
    "pieces"
   ]
  },
  {
   "cell_type": "code",
   "execution_count": 283,
   "metadata": {},
   "outputs": [
    {
     "name": "stdout",
     "output_type": "stream",
     "text": [
      "Concatination\n"
     ]
    },
    {
     "data": {
      "text/html": [
       "<div>\n",
       "<style scoped>\n",
       "    .dataframe tbody tr th:only-of-type {\n",
       "        vertical-align: middle;\n",
       "    }\n",
       "\n",
       "    .dataframe tbody tr th {\n",
       "        vertical-align: top;\n",
       "    }\n",
       "\n",
       "    .dataframe thead th {\n",
       "        text-align: right;\n",
       "    }\n",
       "</style>\n",
       "<table border=\"1\" class=\"dataframe\">\n",
       "  <thead>\n",
       "    <tr style=\"text-align: right;\">\n",
       "      <th></th>\n",
       "      <th>0</th>\n",
       "      <th>1</th>\n",
       "      <th>2</th>\n",
       "      <th>3</th>\n",
       "    </tr>\n",
       "  </thead>\n",
       "  <tbody>\n",
       "    <tr>\n",
       "      <th>0</th>\n",
       "      <td>1.179324</td>\n",
       "      <td>-0.463558</td>\n",
       "      <td>0.314113</td>\n",
       "      <td>-1.515605</td>\n",
       "    </tr>\n",
       "    <tr>\n",
       "      <th>1</th>\n",
       "      <td>0.875296</td>\n",
       "      <td>-1.727954</td>\n",
       "      <td>-1.982956</td>\n",
       "      <td>0.963913</td>\n",
       "    </tr>\n",
       "    <tr>\n",
       "      <th>2</th>\n",
       "      <td>0.360726</td>\n",
       "      <td>-0.285052</td>\n",
       "      <td>0.157286</td>\n",
       "      <td>0.095759</td>\n",
       "    </tr>\n",
       "    <tr>\n",
       "      <th>3</th>\n",
       "      <td>0.080159</td>\n",
       "      <td>1.064865</td>\n",
       "      <td>1.248440</td>\n",
       "      <td>0.477292</td>\n",
       "    </tr>\n",
       "    <tr>\n",
       "      <th>4</th>\n",
       "      <td>-0.707209</td>\n",
       "      <td>0.762266</td>\n",
       "      <td>-0.507432</td>\n",
       "      <td>0.378473</td>\n",
       "    </tr>\n",
       "    <tr>\n",
       "      <th>5</th>\n",
       "      <td>0.528190</td>\n",
       "      <td>0.349823</td>\n",
       "      <td>-0.661517</td>\n",
       "      <td>-0.313104</td>\n",
       "    </tr>\n",
       "    <tr>\n",
       "      <th>6</th>\n",
       "      <td>-0.903000</td>\n",
       "      <td>-1.666512</td>\n",
       "      <td>-0.219321</td>\n",
       "      <td>1.162261</td>\n",
       "    </tr>\n",
       "    <tr>\n",
       "      <th>7</th>\n",
       "      <td>0.521245</td>\n",
       "      <td>-0.796316</td>\n",
       "      <td>-1.458256</td>\n",
       "      <td>-2.087098</td>\n",
       "    </tr>\n",
       "    <tr>\n",
       "      <th>8</th>\n",
       "      <td>-0.310846</td>\n",
       "      <td>-0.924013</td>\n",
       "      <td>0.097872</td>\n",
       "      <td>-0.467239</td>\n",
       "    </tr>\n",
       "    <tr>\n",
       "      <th>9</th>\n",
       "      <td>-1.463043</td>\n",
       "      <td>1.053732</td>\n",
       "      <td>0.665903</td>\n",
       "      <td>0.625595</td>\n",
       "    </tr>\n",
       "  </tbody>\n",
       "</table>\n",
       "</div>"
      ],
      "text/plain": [
       "          0         1         2         3\n",
       "0  1.179324 -0.463558  0.314113 -1.515605\n",
       "1  0.875296 -1.727954 -1.982956  0.963913\n",
       "2  0.360726 -0.285052  0.157286  0.095759\n",
       "3  0.080159  1.064865  1.248440  0.477292\n",
       "4 -0.707209  0.762266 -0.507432  0.378473\n",
       "5  0.528190  0.349823 -0.661517 -0.313104\n",
       "6 -0.903000 -1.666512 -0.219321  1.162261\n",
       "7  0.521245 -0.796316 -1.458256 -2.087098\n",
       "8 -0.310846 -0.924013  0.097872 -0.467239\n",
       "9 -1.463043  1.053732  0.665903  0.625595"
      ]
     },
     "execution_count": 283,
     "metadata": {},
     "output_type": "execute_result"
    }
   ],
   "source": [
    "print(\"Concatination\")\n",
    "pd.concat(pieces)"
   ]
  },
  {
   "cell_type": "code",
   "execution_count": 289,
   "metadata": {},
   "outputs": [
    {
     "name": "stdout",
     "output_type": "stream",
     "text": [
      "joining\n",
      "   key  lval\n",
      "0  foo     1\n",
      "1  bar     2\n",
      "   key  rval\n",
      "0  foo     4\n",
      "1  bar     5\n"
     ]
    },
    {
     "data": {
      "text/html": [
       "<div>\n",
       "<style scoped>\n",
       "    .dataframe tbody tr th:only-of-type {\n",
       "        vertical-align: middle;\n",
       "    }\n",
       "\n",
       "    .dataframe tbody tr th {\n",
       "        vertical-align: top;\n",
       "    }\n",
       "\n",
       "    .dataframe thead th {\n",
       "        text-align: right;\n",
       "    }\n",
       "</style>\n",
       "<table border=\"1\" class=\"dataframe\">\n",
       "  <thead>\n",
       "    <tr style=\"text-align: right;\">\n",
       "      <th></th>\n",
       "      <th>key</th>\n",
       "      <th>lval</th>\n",
       "      <th>rval</th>\n",
       "    </tr>\n",
       "  </thead>\n",
       "  <tbody>\n",
       "    <tr>\n",
       "      <th>0</th>\n",
       "      <td>foo</td>\n",
       "      <td>1</td>\n",
       "      <td>4</td>\n",
       "    </tr>\n",
       "    <tr>\n",
       "      <th>1</th>\n",
       "      <td>bar</td>\n",
       "      <td>2</td>\n",
       "      <td>5</td>\n",
       "    </tr>\n",
       "  </tbody>\n",
       "</table>\n",
       "</div>"
      ],
      "text/plain": [
       "   key  lval  rval\n",
       "0  foo     1     4\n",
       "1  bar     2     5"
      ]
     },
     "execution_count": 289,
     "metadata": {},
     "output_type": "execute_result"
    }
   ],
   "source": [
    "print(\"joining\")\n",
    "\n",
    "left = pd.DataFrame({\"key\":[\"foo\",\"bar\"],\"lval\":[1,2]})\n",
    "right = pd.DataFrame({\"key\": [\"foo\", \"bar\"], \"rval\": [4, 5]})\n",
    "print(left)\n",
    "print(right)\n",
    "pd.merge(left,right,on=\"key\")"
   ]
  }
 ],
 "metadata": {
  "kernelspec": {
   "display_name": "Python 3",
   "language": "python",
   "name": "python3"
  },
  "language_info": {
   "codemirror_mode": {
    "name": "ipython",
    "version": 3
   },
   "file_extension": ".py",
   "mimetype": "text/x-python",
   "name": "python",
   "nbconvert_exporter": "python",
   "pygments_lexer": "ipython3",
   "version": "3.11.5"
  }
 },
 "nbformat": 4,
 "nbformat_minor": 2
}
