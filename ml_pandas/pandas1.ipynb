{
 "cells": [
  {
   "cell_type": "code",
   "execution_count": 2,
   "metadata": {},
   "outputs": [],
   "source": [
    "import pandas as pd\n",
    "import numpy as np"
   ]
  },
  {
   "cell_type": "code",
   "execution_count": 3,
   "metadata": {},
   "outputs": [
    {
     "name": "stdout",
     "output_type": "stream",
     "text": [
      "0    1.0\n",
      "1    3.0\n",
      "2    5.0\n",
      "3    NaN\n",
      "4    6.0\n",
      "5    8.0\n",
      "dtype: float64\n",
      "[ 1.  3.  5. nan  6.  8.]\n",
      "<class 'pandas.core.indexes.datetimes.DatetimeIndex'>\n"
     ]
    }
   ],
   "source": [
    "# creating  panda series\n",
    "s = pd.Series([1,3,5,np.nan,6,8])\n",
    "print(s)\n",
    "print(s.to_numpy())\n",
    "# creating a dataframe with data_range\n",
    "dates = pd.date_range(\"2023-01-01\",periods=4)\n",
    "print(type(dates))\n",
    "# df = pd.DataFrame(np.random.randn(6,4),index=dates,columns=(\"A\",\"B\",\"C\",\"D\"))\n",
    "# print(df.head())"
   ]
  },
  {
   "cell_type": "code",
   "execution_count": 4,
   "metadata": {},
   "outputs": [
    {
     "name": "stdout",
     "output_type": "stream",
     "text": [
      "Creating a DataFrame by passing a dictionary of objects where the keys are the column labels and the values are the column values.\n",
      "          A          B         C         D\n",
      "0  0.502376 2023-01-01  0.651866  0.741337\n",
      "1  0.421889 2023-01-02  0.375386  0.592132\n",
      "2  0.643518 2023-01-03  0.278965  0.063917\n",
      "3  0.947058 2023-01-04  0.615360  0.926206\n",
      "              A                    B         C         D\n",
      "count  4.000000                    4  4.000000  4.000000\n",
      "mean   0.628710  2023-01-02 12:00:00  0.480394  0.580898\n",
      "min    0.421889  2023-01-01 00:00:00  0.278965  0.063917\n",
      "25%    0.482254  2023-01-01 18:00:00  0.351281  0.460079\n",
      "50%    0.572947  2023-01-02 12:00:00  0.495373  0.666735\n",
      "75%    0.719403  2023-01-03 06:00:00  0.624487  0.787554\n",
      "max    0.947058  2023-01-04 00:00:00  0.651866  0.926206\n",
      "std    0.231156                  NaN  0.181860  0.370753\n"
     ]
    }
   ],
   "source": [
    "print(\"Creating a DataFrame by passing a dictionary of objects where the keys are the column labels and the values are the column values.\")\n",
    "df_new = pd.DataFrame({\n",
    "    \"A\":np.random.rand(4),\n",
    "    \"B\":pd.Series(dates),\n",
    "    \"C\":pd.Series(np.random.rand(4),index=list(range(4)),dtype=np.float64),\n",
    "    \"D\":np.array(np.random.rand(4),dtype=np.float64)\n",
    "})\n",
    "print(df_new.head())\n",
    "print(df_new.describe())"
   ]
  },
  {
   "cell_type": "code",
   "execution_count": 5,
   "metadata": {},
   "outputs": [
    {
     "name": "stdout",
     "output_type": "stream",
     "text": [
      "Sorting an element by axis ==\n",
      "          A          B         C         D\n",
      "3  0.947058 2023-01-04  0.615360  0.926206\n",
      "2  0.643518 2023-01-03  0.278965  0.063917\n",
      "1  0.421889 2023-01-02  0.375386  0.592132\n",
      "0  0.502376 2023-01-01  0.651866  0.741337\n"
     ]
    }
   ],
   "source": [
    "print(\"Sorting an element by axis ==\")\n",
    "print(df_new.sort_index(axis=0,ascending=False))"
   ]
  },
  {
   "cell_type": "code",
   "execution_count": 6,
   "metadata": {},
   "outputs": [
    {
     "name": "stdout",
     "output_type": "stream",
     "text": [
      "False\n",
      "0    0.502376\n",
      "1    0.421889\n",
      "2    0.643518\n",
      "3    0.947058\n",
      "Name: A, dtype: float64\n",
      "For selecting by label we use DataFrame.loc() or DataFrame.at()\n",
      "For Example ....\n",
      "          A          B\n",
      "0  0.502376 2023-01-01\n",
      "1  0.421889 2023-01-02\n",
      "2  0.643518 2023-01-03\n",
      "3  0.947058 2023-01-04\n",
      "Selecting single row and column label return scalar\n",
      "0.5023755230107799\n"
     ]
    }
   ],
   "source": [
    "print(0.572727 > 0.664465)\n",
    "# GetItem[]\n",
    "print(df_new[\"A\"])\n",
    "print(\"For selecting by label we use DataFrame.loc() or DataFrame.at()\")\n",
    "\n",
    "print(\"For Example ....\")\n",
    "print(df_new.loc[:,[\"A\",\"B\"]])\n",
    "print(\"Selecting single row and column label return scalar\")\n",
    "print(df_new.loc[0,\"A\"])"
   ]
  },
  {
   "cell_type": "code",
   "execution_count": 7,
   "metadata": {},
   "outputs": [
    {
     "name": "stdout",
     "output_type": "stream",
     "text": [
      "Selection by position\n",
      "          A          B         C         D\n",
      "0  0.502376 2023-01-01  0.651866  0.741337\n",
      "1  0.421889 2023-01-02  0.375386  0.592132\n",
      "2  0.643518 2023-01-03  0.278965  0.063917\n",
      "3  0.947058 2023-01-04  0.615360  0.926206\n",
      " \n",
      "A               0.947058\n",
      "B    2023-01-04 00:00:00\n",
      "C                0.61536\n",
      "D               0.926206\n",
      "Name: 3, dtype: object\n",
      "          A          B         C\n",
      "1  0.421889 2023-01-02  0.375386\n"
     ]
    }
   ],
   "source": [
    "print(\"Selection by position\")\n",
    "print(df_new.head())\n",
    "print(\" \")\n",
    "print(df_new.iloc[3])\n",
    "print(df_new.iloc[1:2,0:3])"
   ]
  },
  {
   "cell_type": "code",
   "execution_count": 8,
   "metadata": {},
   "outputs": [
    {
     "name": "stdout",
     "output_type": "stream",
     "text": [
      "          A          B         C         D\n",
      "2  0.643518 2023-01-03  0.278965  0.063917\n",
      "3  0.947058 2023-01-04  0.615360  0.926206\n",
      "          A          B         C         D  Month\n",
      "0  0.502376 2023-01-01  0.651866  0.741337    Jan\n",
      "1  0.421889 2023-01-02  0.375386  0.592132    Feb\n",
      "2  0.643518 2023-01-03  0.278965  0.063917  March\n",
      "3  0.947058 2023-01-04  0.615360  0.926206  April\n"
     ]
    }
   ],
   "source": [
    "# boolean indexing\n",
    "print(df_new[df_new[\"A\"] > 0.62])\n",
    "# copy\n",
    "df2 = df_new.copy()\n",
    "df2[\"Month\"]=[\"Jan\",\"Feb\",\"March\",\"April\"]\n",
    "print(df2)\n",
    "# print(\"Using isin() filtering method\")\n",
    "# print(df2[df2[\"Month\"].isin([\"March\"])])"
   ]
  },
  {
   "cell_type": "code",
   "execution_count": null,
   "metadata": {},
   "outputs": [],
   "source": [
    "# setting a value by labels\n",
    "# df2.at[dates[0],\"A\"] = 2.353\n",
    "# df2 = df2.drop([\"B\"],axis=1)\n",
    "df2.at[0,\"A\"] = 3.33\n",
    "print(df2[df2 > 0.23])\n"
   ]
  },
  {
   "cell_type": "code",
   "execution_count": null,
   "metadata": {},
   "outputs": [],
   "source": []
  }
 ],
 "metadata": {
  "kernelspec": {
   "display_name": "Python 3",
   "language": "python",
   "name": "python3"
  },
  "language_info": {
   "codemirror_mode": {
    "name": "ipython",
    "version": 3
   },
   "file_extension": ".py",
   "mimetype": "text/x-python",
   "name": "python",
   "nbconvert_exporter": "python",
   "pygments_lexer": "ipython3",
   "version": "3.11.5"
  },
  "orig_nbformat": 4
 },
 "nbformat": 4,
 "nbformat_minor": 2
}
